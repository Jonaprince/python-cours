{
 "cells": [
  {
   "cell_type": "markdown",
   "id": "4031215a",
   "metadata": {},
   "source": [
    "# Bienvenue sur jupyter\n",
    "\n",
    "Cette outil permet de créer des bouts de programmes en bloc\n",
    "\n",
    "Certains raccourcis te seront très utile:\n",
    "\n",
    "- ALT + ENTRER: Execute un bloc de code\n",
    "- ALT + SHIFT: Execute un bloc de code et créé un nouveau bloc en dessous\n",
    "- TAB: permet de compléter ton bout de code automatiquement (Tu vas beaucoup t'en servir)\n"
   ]
  },
  {
   "cell_type": "code",
   "execution_count": 3,
   "id": "2955da90",
   "metadata": {},
   "outputs": [
    {
     "name": "stdout",
     "output_type": "stream",
     "text": [
      "Hello world !\n"
     ]
    }
   ],
   "source": [
    "# En python comme en R les lignes de commentaires commencent par un #\n",
    "\"\"\"\n",
    "Tu peux également écrire des blocs de plusieurs lignes comme ça\n",
    "X\n",
    "X\n",
    "\"\"\"\n",
    "\n",
    "# Voici un programme python très simple il permet d'afficher une chaine de caractère\n",
    "\n",
    "# Execute ce code le retour sera afficher sous ce bloc\n",
    "\n",
    "print(\"Hello world !\")"
   ]
  },
  {
   "cell_type": "markdown",
   "id": "0561c897",
   "metadata": {},
   "source": [
    "## Les types en python\n",
    "\n",
    "Il existe plusieurs type natifs python, c'est à dire des types qui existe dans le package de base de python.\n",
    "\n",
    "- Les valeurs numérique 1 1.1 -1  (a et b)\n",
    "- Les valeurs booléennes True, False\n",
    "- Les chaines de charactères (d)\n",
    "- Les listes dans lequel tu peux un ensemble de variables (e)\n",
    "- Les dictionaires de données (on verra ce type plus tard)\n",
    "- Les objets (on verra ce type plus tard)"
   ]
  },
  {
   "cell_type": "code",
   "execution_count": 26,
   "id": "ca1c78f0",
   "metadata": {},
   "outputs": [
    {
     "name": "stdout",
     "output_type": "stream",
     "text": [
      "a est de type: \n",
      "<class 'int'>\n",
      "b est de type: \n",
      "<class 'float'>\n",
      "c est de type:\n",
      "<class 'bool'>\n",
      "d est de type:\n",
      "<class 'str'>\n",
      "e est de type:\n",
      "<class 'list'>\n"
     ]
    }
   ],
   "source": [
    "# Une valeurs numérique entière (int)\n",
    "a = 2\n",
    "print(\"a est de type: \")\n",
    "print(type(a))\n",
    "\n",
    "# Une valeur numérique a virgule (float)\n",
    "b = 1.2\n",
    "print(\"b est de type: \")\n",
    "print(type(b))\n",
    "\n",
    "# Une valeur booléenne (bool)\n",
    "c = True\n",
    "print(\"c est de type:\")\n",
    "print(type(c))\n",
    "\n",
    "# Une valeur chaine de charactère (string)\n",
    "d = \"Hello\"\n",
    "print(\"d est de type:\")\n",
    "print(type(d))\n",
    "\n",
    "# Une valeur list (list)\n",
    "e = []\n",
    "print(\"e est de type:\")\n",
    "print(type(e))"
   ]
  },
  {
   "cell_type": "markdown",
   "id": "c1d0591b",
   "metadata": {},
   "source": [
    "# Les conditions\n",
    "\n",
    "En python, tu peux conditionner l'éxecution d'un bour de code à une condition avec if\n",
    "sous la forme:\n",
    "\n",
    "if condition: <br/>\n",
    "&nbsp;&nbsp;&nbsp;&nbsp;print(\"Hello world\")\n",
    "    \n",
    "Si la condtion est True alors le code est executé.\n",
    "L'indentation (les espaces en debuts de lignes sont très important, ils permettent de définir les blocs d'execution)\n",
    "\n",
    "Le else après un if permet d'executer un bloc si la condition n'est pas vérifié"
   ]
  },
  {
   "cell_type": "code",
   "execution_count": 28,
   "id": "e8e6a952",
   "metadata": {},
   "outputs": [
    {
     "name": "stdout",
     "output_type": "stream",
     "text": [
      "La condition est vrai, je m'execute\n",
      "La condition est fausse le else s'execute\n",
      "Cette partie du code n'est plus dans if donc elle s'execute\n"
     ]
    }
   ],
   "source": [
    "# Exemple de condition\n",
    "\n",
    "if True:\n",
    "    print(\"La condition est vrai, je m'execute\")\n",
    "    \n",
    "if False:\n",
    "    print(\"La condition est fausse je ne m'execute pas\")\n",
    "else:\n",
    "    print(\"La condition est fausse le else s'execute\")\n",
    "    \n",
    "print(\"Cette partie du code n'est plus dans if donc elle s'execute\")\n"
   ]
  },
  {
   "cell_type": "code",
   "execution_count": null,
   "id": "f665abc1",
   "metadata": {},
   "outputs": [],
   "source": [
    "# Tu peux bien sur executer avec des conditions réelles\n",
    "\n",
    "a = 2\n",
    "b = 3\n",
    "\n",
    "if b > a:\n",
    "    print(\"je m'execute\")\n",
    "else:\n",
    "    print(\"Je ne m'execute pas\")\n",
    "    "
   ]
  },
  {
   "cell_type": "markdown",
   "id": "9b700049",
   "metadata": {},
   "source": [
    "## Exercice\n",
    "\n",
    "Créer deux variables a et b l'une du type int et l'autre du type float, additionner ces deux variables et stocker le résultat dans une nouvelle variable c et afficher son type. Quel est le type de cette nouvelle variable ?\n",
    " "
   ]
  }
 ],
 "metadata": {
  "kernelspec": {
   "display_name": "Python 3",
   "language": "python",
   "name": "python3"
  },
  "language_info": {
   "codemirror_mode": {
    "name": "ipython",
    "version": 3
   },
   "file_extension": ".py",
   "mimetype": "text/x-python",
   "name": "python",
   "nbconvert_exporter": "python",
   "pygments_lexer": "ipython3",
   "version": "3.8.5"
  }
 },
 "nbformat": 4,
 "nbformat_minor": 5
}
